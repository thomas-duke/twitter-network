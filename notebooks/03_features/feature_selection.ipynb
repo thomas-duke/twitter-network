{
 "cells": [
  {
   "cell_type": "code",
   "execution_count": 7,
   "metadata": {},
   "outputs": [
    {
     "name": "stdout",
     "output_type": "stream",
     "text": [
      "2019-07-02 15:42:29,601 - INFO - ** Kedro project Twitter Network\n",
      "2019-07-02 15:42:29,604 - INFO - Loading: /Users/tomduke/Documents/Academic/MBusA/Modules/M3 - Advanced Analytics/Machine Learning/twitter-network/conf/base/logging.yml\n",
      "2019-07-02 15:42:29,617 - INFO - Loading: /Users/tomduke/Documents/Academic/MBusA/Modules/M3 - Advanced Analytics/Machine Learning/twitter-network/conf/base/catalog.yml\n",
      "2019-07-02 15:42:29,665 - INFO - Loading: /Users/tomduke/Documents/Academic/MBusA/Modules/M3 - Advanced Analytics/Machine Learning/twitter-network/conf/base/credentials.yml\n",
      "2019-07-02 15:42:29,669 - INFO - Loading: /Users/tomduke/Documents/Academic/MBusA/Modules/M3 - Advanced Analytics/Machine Learning/twitter-network/conf/base/parameters.yml\n",
      "2019-07-02 15:42:29,689 - INFO - Defined global variables proj_dir, proj_name, conf and io\n"
     ]
    }
   ],
   "source": [
    "%reload_kedro\n",
    "from twitter_network.nodes.features import *\n",
    "from sklearn.feature_selection import GenericUnivariateSelect, mutual_info_classif"
   ]
  },
  {
   "cell_type": "code",
   "execution_count": 5,
   "metadata": {},
   "outputs": [
    {
     "name": "stdout",
     "output_type": "stream",
     "text": [
      "2019-07-02 15:42:20,021 - INFO - Loading data from `stand_log_X_train` (PickleLocalDataSet)...\n",
      "2019-07-02 15:42:20,400 - INFO - Loading data from `stand_log_X_valid` (PickleLocalDataSet)...\n",
      "2019-07-02 15:42:20,469 - INFO - Loading data from `stand_log_X_test` (PickleLocalDataSet)...\n",
      "2019-07-02 15:42:20,472 - INFO - Loading data from `y_train` (PickleLocalDataSet)...\n",
      "Number of features: 46\n"
     ]
    }
   ],
   "source": [
    "N = 100000\n",
    "X_train = io.load(\"stand_log_X_train\")[:N]\n",
    "X_valid = io.load(\"stand_log_X_valid\")[:N]\n",
    "X_test = io.load(\"stand_log_X_test\")[:N]\n",
    "y_train = io.load(\"y_train\")[:N]\n",
    "print('Number of features:', X_train.shape[1])"
   ]
  },
  {
   "cell_type": "code",
   "execution_count": 8,
   "metadata": {},
   "outputs": [],
   "source": [
    "selector = GenericUnivariateSelect(score_func = mutual_info_classif, mode = \"k_best\", param = 20)"
   ]
  },
  {
   "cell_type": "code",
   "execution_count": 9,
   "metadata": {},
   "outputs": [
    {
     "data": {
      "text/plain": [
       "GenericUnivariateSelect(mode='k_best', param=20,\n",
       "                        score_func=<function mutual_info_classif at 0x125e5b598>)"
      ]
     },
     "execution_count": 9,
     "metadata": {},
     "output_type": "execute_result"
    }
   ],
   "source": [
    "selector.fit(X_train, y_train)"
   ]
  },
  {
   "cell_type": "code",
   "execution_count": 10,
   "metadata": {},
   "outputs": [
    {
     "name": "stdout",
     "output_type": "stream",
     "text": [
      "Number of features selected: 20\n"
     ]
    }
   ],
   "source": [
    "X_trim = selector.transform(X_train)\n",
    "print('Number of features selected:', X_trim.shape[1])"
   ]
  },
  {
   "cell_type": "code",
   "execution_count": 12,
   "metadata": {},
   "outputs": [
    {
     "name": "stdout",
     "output_type": "stream",
     "text": [
      "Selected variables: ['cos_predecessors', 'source_in_density', 'source_out_density', 'source_bi_density', 'sink_in_density', 'sink_out_density', 'source_centrality', 'sink_centrality', 'source_out_centrality', 'source_page_rank', 'sink_page_rank', 'source_katz', 'sink_katz', 'source_reciprocity', 'log_source_out_degree', 'log_source_neighbors', 'log_source_avg_nbr_degree', 'log_sink_neighbors', 'log_node_boundary_size', 'log_sink_avg_nbr_degree'] \n",
      "\n",
      "Excluded variables: ['resource_allocation', 'pa_successors', 'pa_neighbors', 'sink_in_centrality', 'sink_reciprocity', 'log_total_neighbors', 'jc_predecessors', 'source_in_centrality', 'adjusted_adamic_adar', 'log_source_in_degree', 'sink_bi_density', 'cos_neighbors', 'link_efficiency', 'log_sink_out_degree', 'cos_successors', 'shortest_path', 'log_sink_in_degree', 'pa_predecessors', 'jc_successors', 'jc_neighbors', 'sink_out_centrality', 'log_sink_bi_degree', 'log_source_bi_degree', 'log_shared_neighbors', 'transitive_links', 'is_followed_back'] \n",
      "\n"
     ]
    }
   ],
   "source": [
    "# Get feature mask\n",
    "features = X_train.columns\n",
    "mask = selector.get_support()\n",
    "selected = list(compress(features, mask))\n",
    "excluded = list(set(features) - set(selected))\n",
    "print('Selected variables:', selected, '\\n')\n",
    "print('Excluded variables:', excluded, '\\n')"
   ]
  },
  {
   "cell_type": "code",
   "execution_count": 14,
   "metadata": {},
   "outputs": [
    {
     "name": "stdout",
     "output_type": "stream",
     "text": [
      "2019-07-02 16:00:06,420 - INFO - ** Kedro project Twitter Network\n",
      "2019-07-02 16:00:06,423 - INFO - Loading: /Users/tomduke/Documents/Academic/MBusA/Modules/M3 - Advanced Analytics/Machine Learning/twitter-network/conf/base/logging.yml\n",
      "2019-07-02 16:00:06,439 - INFO - Loading: /Users/tomduke/Documents/Academic/MBusA/Modules/M3 - Advanced Analytics/Machine Learning/twitter-network/conf/base/catalog.yml\n",
      "2019-07-02 16:00:06,482 - INFO - Loading: /Users/tomduke/Documents/Academic/MBusA/Modules/M3 - Advanced Analytics/Machine Learning/twitter-network/conf/base/credentials.yml\n",
      "2019-07-02 16:00:06,487 - INFO - Loading: /Users/tomduke/Documents/Academic/MBusA/Modules/M3 - Advanced Analytics/Machine Learning/twitter-network/conf/base/parameters.yml\n",
      "2019-07-02 16:00:06,509 - INFO - Defined global variables proj_dir, proj_name, conf and io\n",
      "2019-07-02 16:00:06,510 - INFO - Loading data from `included_features` (PickleLocalDataSet)...\n"
     ]
    },
    {
     "data": {
      "text/plain": [
       "['jc_predecessors',\n",
       " 'cos_predecessors',\n",
       " 'source_in_density',\n",
       " 'source_out_density',\n",
       " 'source_bi_density',\n",
       " 'sink_in_density',\n",
       " 'sink_out_density',\n",
       " 'sink_bi_density',\n",
       " 'source_centrality',\n",
       " 'sink_centrality',\n",
       " 'sink_in_centrality',\n",
       " 'source_out_centrality',\n",
       " 'source_page_rank',\n",
       " 'sink_page_rank',\n",
       " 'source_katz',\n",
       " 'sink_katz',\n",
       " 'source_reciprocity',\n",
       " 'sink_reciprocity',\n",
       " 'log_source_out_degree',\n",
       " 'log_source_neighbors',\n",
       " 'log_source_avg_nbr_degree',\n",
       " 'log_sink_neighbors',\n",
       " 'log_node_boundary_size',\n",
       " 'log_sink_avg_nbr_degree',\n",
       " 'log_sink_in_degree']"
      ]
     },
     "execution_count": 14,
     "metadata": {},
     "output_type": "execute_result"
    }
   ],
   "source": [
    "%reload_kedro\n",
    "io.load('included_features')"
   ]
  },
  {
   "cell_type": "code",
   "execution_count": null,
   "metadata": {},
   "outputs": [],
   "source": []
  }
 ],
 "metadata": {
  "kernelspec": {
   "display_name": "Python 3",
   "language": "python",
   "name": "python3"
  },
  "language_info": {
   "codemirror_mode": {
    "name": "ipython",
    "version": 3
   },
   "file_extension": ".py",
   "mimetype": "text/x-python",
   "name": "python",
   "nbconvert_exporter": "python",
   "pygments_lexer": "ipython3",
   "version": "3.7.0"
  }
 },
 "nbformat": 4,
 "nbformat_minor": 2
}
