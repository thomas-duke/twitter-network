{
 "cells": [
  {
   "cell_type": "code",
   "execution_count": 6,
   "metadata": {},
   "outputs": [
    {
     "name": "stdout",
     "output_type": "stream",
     "text": [
      "2019-07-03 11:33:15,723 - INFO - ** Kedro project Twitter Network\n",
      "2019-07-03 11:33:15,725 - INFO - Loading: /Users/tomduke/Documents/Academic/MBusA/Modules/M3 - Advanced Analytics/Machine Learning/twitter-network/conf/base/logging.yml\n",
      "2019-07-03 11:33:15,730 - INFO - Loading: /Users/tomduke/Documents/Academic/MBusA/Modules/M3 - Advanced Analytics/Machine Learning/twitter-network/conf/base/catalog.yml\n",
      "2019-07-03 11:33:15,735 - INFO - Loading: /Users/tomduke/Documents/Academic/MBusA/Modules/M3 - Advanced Analytics/Machine Learning/twitter-network/conf/base/credentials.yml\n",
      "2019-07-03 11:33:15,737 - INFO - Loading: /Users/tomduke/Documents/Academic/MBusA/Modules/M3 - Advanced Analytics/Machine Learning/twitter-network/conf/base/parameters.yml\n",
      "2019-07-03 11:33:15,743 - INFO - Defined global variables proj_dir, proj_name, conf and io\n"
     ]
    }
   ],
   "source": [
    "%reload_kedro\n",
    "from twitter_network.nodes.features import *\n",
    "from sklearn.feature_selection import GenericUnivariateSelect, SelectFromModel, mutual_info_classif"
   ]
  },
  {
   "cell_type": "code",
   "execution_count": 3,
   "metadata": {},
   "outputs": [
    {
     "name": "stdout",
     "output_type": "stream",
     "text": [
      "2019-07-03 11:32:46,805 - INFO - Loading data from `stand_log_X_train` (PickleLocalDataSet)...\n",
      "2019-07-03 11:32:46,817 - INFO - Loading data from `stand_log_X_valid` (PickleLocalDataSet)...\n",
      "2019-07-03 11:32:46,825 - INFO - Loading data from `stand_log_X_test` (PickleLocalDataSet)...\n",
      "2019-07-03 11:32:46,830 - INFO - Loading data from `y_train` (PickleLocalDataSet)...\n",
      "Number of features: 68\n"
     ]
    }
   ],
   "source": [
    "X_train = io.load(\"stand_log_X_train\")\n",
    "X_valid = io.load(\"stand_log_X_valid\")\n",
    "X_test = io.load(\"stand_log_X_test\")\n",
    "y_train = io.load(\"y_train\")\n",
    "print('Number of features:', X_train.shape[1])"
   ]
  },
  {
   "cell_type": "code",
   "execution_count": 11,
   "metadata": {
    "scrolled": true
   },
   "outputs": [
    {
     "data": {
      "text/plain": [
       "['sink_page_rank',\n",
       " 'sink_katz',\n",
       " 'sink_centrality',\n",
       " 'log_sink_neighbors',\n",
       " 'sink_in_centrality',\n",
       " 'log_sink_in_degree',\n",
       " 'RA_undirected',\n",
       " 'RA_neighbors',\n",
       " 'AA_neighbors',\n",
       " 'AA_undirected',\n",
       " 'RA_predecessors',\n",
       " 'RA_transient_in',\n",
       " 'AA_predecessors',\n",
       " 'link_efficiency',\n",
       " 'AA_transient_in',\n",
       " 'log_common_neighbors',\n",
       " 'hub_promoted_index',\n",
       " 'hub_suppressed_index',\n",
       " 'sorensen_index',\n",
       " 'JC_neighbors',\n",
       " 'JC_undirected',\n",
       " 'PA_predecessors',\n",
       " 'PA_neighbors',\n",
       " 'PA_undirected',\n",
       " 'shortest_path',\n",
       " 'JC_transient_in',\n",
       " 'transitive_links',\n",
       " 'JC_predecessors',\n",
       " 'cos_neighbors',\n",
       " 'cos_predecessors',\n",
       " 'LHN_index',\n",
       " 'cos_transient_in',\n",
       " 'PA_transient_in',\n",
       " 'sink_in_density',\n",
       " 'sink_bi_density',\n",
       " 'sink_out_density',\n",
       " 'log_sink_bi_degree',\n",
       " 'log_sink_out_degree',\n",
       " 'log_sink_avg_nbr_degree',\n",
       " 'sink_reciprocity',\n",
       " 'PA_successors',\n",
       " 'PA_transient_out',\n",
       " 'JC_successors',\n",
       " 'sink_out_centrality',\n",
       " 'AA_successors',\n",
       " 'cos_successors',\n",
       " 'RA_successors',\n",
       " 'AA_transient_out',\n",
       " 'JC_transient_out',\n",
       " 'cos_transient_out',\n",
       " 'RA_transient_out',\n",
       " 'is_followed_back',\n",
       " 'log_total_neighbors',\n",
       " 'log_node_boundary_size',\n",
       " 'log_source_out_degree',\n",
       " 'log_source_neighbors',\n",
       " 'log_source_in_degree',\n",
       " 'log_source_avg_nbr_degree',\n",
       " 'source_bi_density',\n",
       " 'source_centrality',\n",
       " 'source_in_centrality',\n",
       " 'source_in_density',\n",
       " 'source_katz',\n",
       " 'source_out_centrality',\n",
       " 'source_out_density',\n",
       " 'source_page_rank',\n",
       " 'source_reciprocity',\n",
       " 'log_source_bi_degree']"
      ]
     },
     "execution_count": 11,
     "metadata": {},
     "output_type": "execute_result"
    }
   ],
   "source": [
    "MI = pd.DataFrame(mutual_info_classif(X_train, y_train), index = X_train.columns, columns = [\"MI\"])\n",
    "MI_order = list(MI.sort_values(\"MI\", ascending = False).index)"
   ]
  },
  {
   "cell_type": "code",
   "execution_count": 26,
   "metadata": {},
   "outputs": [
    {
     "name": "stdout",
     "output_type": "stream",
     "text": [
      "Best: ['AA_neighbors', 'JC_neighbors', 'RA_undirected', 'PA_predecessors', 'cos_neighbors', 'log_source_in_degree', 'log_source_out_degree', 'source_bi_density', 'sink_in_centrality', 'sink_out_density', 'sink_bi_density']\n",
      "Excluded: ['AA_undirected', 'AA_predecessors', 'AA_transient_in', 'AA_successors', 'AA_transient_out', 'JC_undirected', 'JC_transient_in', 'JC_predecessors', 'JC_successors', 'JC_transient_out', 'RA_neighbors', 'RA_predecessors', 'RA_transient_in', 'RA_successors', 'RA_transient_out', 'PA_neighbors', 'PA_undirected', 'PA_transient_in', 'PA_successors', 'PA_transient_out', 'cos_predecessors', 'cos_transient_in', 'cos_successors', 'cos_transient_out', 'source_in_centrality', 'source_in_density', 'source_out_centrality', 'source_out_density', 'log_source_bi_degree', 'log_sink_in_degree', 'sink_in_density', 'log_sink_out_degree', 'sink_out_centrality', 'log_sink_bi_degree']\n"
     ]
    }
   ],
   "source": [
    "substrings = [\"AA\",\"JC\",\"RA\",\"PA\",\"cos\",\"source_in\",\"source_out\",\"source_bi\",\"sink_in\",\"sink_out\",\"sink_bi\"]\n",
    "sim_order = [[x for x in MI_order if substring in x] for substring in substrings]\n",
    "sim_best = [x[0] for x in sim_order]\n",
    "sim_exclude = [x[1:] for x in sim_order]\n",
    "sim_exclude = [x for sublist in sim_exclude for x in sublist]\n",
    "print('Best:', sim_best)\n",
    "print('Excluded:', sim_exclude)"
   ]
  },
  {
   "cell_type": "code",
   "execution_count": 27,
   "metadata": {},
   "outputs": [
    {
     "data": {
      "text/plain": [
       "['AA_neighbors',\n",
       " 'JC_neighbors',\n",
       " 'LHN_index',\n",
       " 'PA_predecessors',\n",
       " 'RA_undirected',\n",
       " 'cos_neighbors',\n",
       " 'hub_promoted_index',\n",
       " 'hub_suppressed_index',\n",
       " 'is_followed_back',\n",
       " 'link_efficiency',\n",
       " 'log_common_neighbors',\n",
       " 'log_node_boundary_size',\n",
       " 'log_sink_avg_nbr_degree',\n",
       " 'log_sink_neighbors',\n",
       " 'log_source_avg_nbr_degree',\n",
       " 'log_source_in_degree',\n",
       " 'log_source_neighbors',\n",
       " 'log_source_out_degree',\n",
       " 'log_total_neighbors',\n",
       " 'shortest_path',\n",
       " 'sink_bi_density',\n",
       " 'sink_centrality',\n",
       " 'sink_in_centrality',\n",
       " 'sink_katz',\n",
       " 'sink_out_density',\n",
       " 'sink_page_rank',\n",
       " 'sink_reciprocity',\n",
       " 'sorensen_index',\n",
       " 'source_bi_density',\n",
       " 'source_centrality',\n",
       " 'source_katz',\n",
       " 'source_page_rank',\n",
       " 'source_reciprocity',\n",
       " 'transitive_links']"
      ]
     },
     "execution_count": 27,
     "metadata": {},
     "output_type": "execute_result"
    }
   ],
   "source": [
    "features = X_train.columns\n",
    "included = [x for x in features if x not in sim_exclude]; included"
   ]
  },
  {
   "cell_type": "code",
   "execution_count": null,
   "metadata": {},
   "outputs": [],
   "source": [
    "# Get feature mask\n",
    "\n",
    "mask = selector.get_support()\n",
    "selected = list(compress(features, mask))\n",
    "excluded = list(set(features) - set(selected))\n",
    "print('Selected variables:', selected, '\\n')\n",
    "print('Excluded variables:', excluded, '\\n')"
   ]
  },
  {
   "cell_type": "code",
   "execution_count": 32,
   "metadata": {
    "scrolled": true
   },
   "outputs": [
    {
     "name": "stdout",
     "output_type": "stream",
     "text": [
      "2019-07-03 11:43:26,983 - INFO - ** Kedro project Twitter Network\n",
      "2019-07-03 11:43:26,985 - INFO - Loading: /Users/tomduke/Documents/Academic/MBusA/Modules/M3 - Advanced Analytics/Machine Learning/twitter-network/conf/base/logging.yml\n",
      "2019-07-03 11:43:26,990 - INFO - Loading: /Users/tomduke/Documents/Academic/MBusA/Modules/M3 - Advanced Analytics/Machine Learning/twitter-network/conf/base/catalog.yml\n",
      "2019-07-03 11:43:26,995 - INFO - Loading: /Users/tomduke/Documents/Academic/MBusA/Modules/M3 - Advanced Analytics/Machine Learning/twitter-network/conf/base/credentials.yml\n",
      "2019-07-03 11:43:26,997 - INFO - Loading: /Users/tomduke/Documents/Academic/MBusA/Modules/M3 - Advanced Analytics/Machine Learning/twitter-network/conf/base/parameters.yml\n",
      "2019-07-03 11:43:27,003 - INFO - Defined global variables proj_dir, proj_name, conf and io\n",
      "2019-07-03 11:43:27,004 - INFO - Loading data from `clf_RF` (PickleLocalDataSet)...\n"
     ]
    },
    {
     "data": {
      "text/plain": [
       "array([3.84151304e-02, 1.91672173e-02, 5.27549094e-05, 1.94297675e-02,\n",
       "       3.44471696e-05, 5.72616620e-02, 9.78268235e-03, 3.08249480e-03,\n",
       "       4.08474812e-05, 1.85148921e-03, 2.37708649e-05, 1.18790452e-02,\n",
       "       5.16871012e-03, 7.91600129e-03, 1.73647510e-02, 2.55198427e-04,\n",
       "       9.38548351e-03, 1.13438082e-03, 7.16841295e-03, 4.95477478e-02,\n",
       "       2.80422697e-02, 4.77993390e-05, 3.38805601e-02, 1.80849418e-05,\n",
       "       7.26355001e-02, 4.10469278e-03, 3.99411236e-03, 4.39915037e-05,\n",
       "       1.43317399e-03, 2.55039481e-05, 7.26390854e-03, 1.76468832e-02,\n",
       "       1.48163658e-04, 1.20352909e-02, 2.03961342e-02, 7.11828167e-03,\n",
       "       4.86494764e-04, 9.21510967e-04, 2.25642752e-02, 2.43993738e-02,\n",
       "       6.07323133e-04, 6.73693654e-03, 6.60620152e-03, 6.55728711e-03,\n",
       "       7.06892660e-03, 7.31801003e-03, 6.57438277e-03, 6.14784004e-03,\n",
       "       7.42685030e-04, 2.87190183e-02, 2.29010664e-02, 1.84947471e-02,\n",
       "       1.25744720e-01, 4.20224459e-04, 5.69113029e-04, 1.63847192e-01,\n",
       "       3.05174394e-04, 1.19903945e-02, 6.22851983e-03, 7.14545924e-03,\n",
       "       6.42792008e-03, 6.51396722e-03, 8.04515043e-03, 7.38769208e-03,\n",
       "       5.83335452e-03, 7.14181154e-03, 6.38498302e-03, 1.37189803e-03])"
      ]
     },
     "execution_count": 32,
     "metadata": {},
     "output_type": "execute_result"
    }
   ],
   "source": [
    "%reload_kedro\n",
    "clf = io.load(\"clf_RF\")\n",
    "clf.feature_importances_"
   ]
  },
  {
   "cell_type": "code",
   "execution_count": 33,
   "metadata": {},
   "outputs": [
    {
     "data": {
      "text/plain": [
       "(39240, 29)"
      ]
     },
     "execution_count": 33,
     "metadata": {},
     "output_type": "execute_result"
    }
   ],
   "source": [
    "lsvc = LinearSVC(C=0.01, penalty=\"l1\", dual=False).fit(X_train, y_train)\n",
    "model = SelectFromModel(lsvc, prefit=True)\n",
    "X_reduced = model.transform(X_train)\n",
    "X_reduced.shape"
   ]
  },
  {
   "cell_type": "code",
   "execution_count": 34,
   "metadata": {
    "scrolled": true
   },
   "outputs": [
    {
     "name": "stdout",
     "output_type": "stream",
     "text": [
      "Selected variables: ['JC_transient_in', 'JC_transient_out', 'LHN_index', 'PA_transient_in', 'RA_transient_in', 'cos_neighbors', 'hub_promoted_index', 'is_followed_back', 'link_efficiency', 'log_common_neighbors', 'log_sink_bi_degree', 'log_sink_in_degree', 'log_sink_out_degree', 'log_source_avg_nbr_degree', 'log_source_bi_degree', 'log_source_in_degree', 'log_source_out_degree', 'shortest_path', 'sink_bi_density', 'sink_in_centrality', 'sink_in_density', 'sink_out_density', 'sink_page_rank', 'sink_reciprocity', 'source_in_density', 'source_katz', 'source_out_centrality', 'source_out_density', 'transitive_links'] \n",
      "\n",
      "Excluded variables: ['sink_centrality', 'source_bi_density', 'AA_transient_in', 'sink_out_centrality', 'AA_successors', 'RA_undirected', 'cos_predecessors', 'source_page_rank', 'sorensen_index', 'cos_transient_in', 'PA_predecessors', 'PA_neighbors', 'AA_neighbors', 'source_reciprocity', 'log_sink_neighbors', 'RA_successors', 'AA_transient_out', 'AA_undirected', 'RA_neighbors', 'AA_predecessors', 'source_centrality', 'sink_katz', 'cos_successors', 'hub_suppressed_index', 'JC_undirected', 'RA_transient_out', 'source_in_centrality', 'PA_undirected', 'JC_predecessors', 'cos_transient_out', 'log_total_neighbors', 'log_node_boundary_size', 'JC_successors', 'log_sink_avg_nbr_degree', 'RA_predecessors', 'PA_successors', 'PA_transient_out', 'JC_neighbors', 'log_source_neighbors'] \n",
      "\n"
     ]
    }
   ],
   "source": [
    "mask = model.get_support()\n",
    "selected = list(compress(features, mask))\n",
    "excluded = list(set(features) - set(selected))\n",
    "print('Selected variables:', selected, '\\n')\n",
    "print('Excluded variables:', excluded, '\\n')"
   ]
  },
  {
   "cell_type": "code",
   "execution_count": 46,
   "metadata": {
    "collapsed": true
   },
   "outputs": [
    {
     "name": "stdout",
     "output_type": "stream",
     "text": [
      "2019-07-03 13:45:08,227 - INFO - Loading data from `clf_GB` (PickleLocalDataSet)...\n",
      "Fitting RFE...\n"
     ]
    },
    {
     "ename": "KeyboardInterrupt",
     "evalue": "",
     "output_type": "error",
     "traceback": [
      "\u001b[0;31m---------------------------------------------------------------------------\u001b[0m",
      "\u001b[0;31mKeyboardInterrupt\u001b[0m                         Traceback (most recent call last)",
      "\u001b[0;32m<ipython-input-46-097aa780adea>\u001b[0m in \u001b[0;36m<module>\u001b[0;34m\u001b[0m\n\u001b[1;32m      3\u001b[0m \u001b[0mprint\u001b[0m\u001b[0;34m(\u001b[0m\u001b[0;34m\"Fitting RFE...\"\u001b[0m\u001b[0;34m)\u001b[0m\u001b[0;34m\u001b[0m\u001b[0;34m\u001b[0m\u001b[0m\n\u001b[1;32m      4\u001b[0m \u001b[0mrfe\u001b[0m \u001b[0;34m=\u001b[0m \u001b[0mRFE\u001b[0m\u001b[0;34m(\u001b[0m\u001b[0mestimator\u001b[0m\u001b[0;34m=\u001b[0m\u001b[0mclf\u001b[0m\u001b[0;34m,\u001b[0m \u001b[0mn_features_to_select\u001b[0m\u001b[0;34m=\u001b[0m\u001b[0;36m30\u001b[0m\u001b[0;34m,\u001b[0m \u001b[0mstep\u001b[0m\u001b[0;34m=\u001b[0m\u001b[0;36m1\u001b[0m\u001b[0;34m)\u001b[0m\u001b[0;34m\u001b[0m\u001b[0;34m\u001b[0m\u001b[0m\n\u001b[0;32m----> 5\u001b[0;31m \u001b[0mrfe\u001b[0m\u001b[0;34m.\u001b[0m\u001b[0mfit\u001b[0m\u001b[0;34m(\u001b[0m\u001b[0mX_train\u001b[0m\u001b[0;34m,\u001b[0m \u001b[0my_train\u001b[0m\u001b[0;34m)\u001b[0m\u001b[0;34m\u001b[0m\u001b[0;34m\u001b[0m\u001b[0m\n\u001b[0m\u001b[1;32m      6\u001b[0m \u001b[0mprint\u001b[0m\u001b[0;34m(\u001b[0m\u001b[0;34m\"Ranking:\"\u001b[0m\u001b[0;34m,\u001b[0m \u001b[0mrfe\u001b[0m\u001b[0;34m.\u001b[0m\u001b[0mranking_\u001b[0m\u001b[0;34m)\u001b[0m\u001b[0;34m\u001b[0m\u001b[0;34m\u001b[0m\u001b[0m\n",
      "\u001b[0;32m~/.local/lib/python3.7/site-packages/sklearn/feature_selection/rfe.py\u001b[0m in \u001b[0;36mfit\u001b[0;34m(self, X, y)\u001b[0m\n\u001b[1;32m    142\u001b[0m             \u001b[0mThe\u001b[0m \u001b[0mtarget\u001b[0m \u001b[0mvalues\u001b[0m\u001b[0;34m.\u001b[0m\u001b[0;34m\u001b[0m\u001b[0;34m\u001b[0m\u001b[0m\n\u001b[1;32m    143\u001b[0m         \"\"\"\n\u001b[0;32m--> 144\u001b[0;31m         \u001b[0;32mreturn\u001b[0m \u001b[0mself\u001b[0m\u001b[0;34m.\u001b[0m\u001b[0m_fit\u001b[0m\u001b[0;34m(\u001b[0m\u001b[0mX\u001b[0m\u001b[0;34m,\u001b[0m \u001b[0my\u001b[0m\u001b[0;34m)\u001b[0m\u001b[0;34m\u001b[0m\u001b[0;34m\u001b[0m\u001b[0m\n\u001b[0m\u001b[1;32m    145\u001b[0m \u001b[0;34m\u001b[0m\u001b[0m\n\u001b[1;32m    146\u001b[0m     \u001b[0;32mdef\u001b[0m \u001b[0m_fit\u001b[0m\u001b[0;34m(\u001b[0m\u001b[0mself\u001b[0m\u001b[0;34m,\u001b[0m \u001b[0mX\u001b[0m\u001b[0;34m,\u001b[0m \u001b[0my\u001b[0m\u001b[0;34m,\u001b[0m \u001b[0mstep_score\u001b[0m\u001b[0;34m=\u001b[0m\u001b[0;32mNone\u001b[0m\u001b[0;34m)\u001b[0m\u001b[0;34m:\u001b[0m\u001b[0;34m\u001b[0m\u001b[0;34m\u001b[0m\u001b[0m\n",
      "\u001b[0;32m~/.local/lib/python3.7/site-packages/sklearn/feature_selection/rfe.py\u001b[0m in \u001b[0;36m_fit\u001b[0;34m(self, X, y, step_score)\u001b[0m\n\u001b[1;32m    181\u001b[0m                 \u001b[0mprint\u001b[0m\u001b[0;34m(\u001b[0m\u001b[0;34m\"Fitting estimator with %d features.\"\u001b[0m \u001b[0;34m%\u001b[0m \u001b[0mnp\u001b[0m\u001b[0;34m.\u001b[0m\u001b[0msum\u001b[0m\u001b[0;34m(\u001b[0m\u001b[0msupport_\u001b[0m\u001b[0;34m)\u001b[0m\u001b[0;34m)\u001b[0m\u001b[0;34m\u001b[0m\u001b[0;34m\u001b[0m\u001b[0m\n\u001b[1;32m    182\u001b[0m \u001b[0;34m\u001b[0m\u001b[0m\n\u001b[0;32m--> 183\u001b[0;31m             \u001b[0mestimator\u001b[0m\u001b[0;34m.\u001b[0m\u001b[0mfit\u001b[0m\u001b[0;34m(\u001b[0m\u001b[0mX\u001b[0m\u001b[0;34m[\u001b[0m\u001b[0;34m:\u001b[0m\u001b[0;34m,\u001b[0m \u001b[0mfeatures\u001b[0m\u001b[0;34m]\u001b[0m\u001b[0;34m,\u001b[0m \u001b[0my\u001b[0m\u001b[0;34m)\u001b[0m\u001b[0;34m\u001b[0m\u001b[0;34m\u001b[0m\u001b[0m\n\u001b[0m\u001b[1;32m    184\u001b[0m \u001b[0;34m\u001b[0m\u001b[0m\n\u001b[1;32m    185\u001b[0m             \u001b[0;31m# Get coefs\u001b[0m\u001b[0;34m\u001b[0m\u001b[0;34m\u001b[0m\u001b[0;34m\u001b[0m\u001b[0m\n",
      "\u001b[0;32m~/.local/lib/python3.7/site-packages/sklearn/ensemble/gradient_boosting.py\u001b[0m in \u001b[0;36mfit\u001b[0;34m(self, X, y, sample_weight, monitor)\u001b[0m\n\u001b[1;32m   1544\u001b[0m         n_stages = self._fit_stages(\n\u001b[1;32m   1545\u001b[0m             \u001b[0mX\u001b[0m\u001b[0;34m,\u001b[0m \u001b[0my\u001b[0m\u001b[0;34m,\u001b[0m \u001b[0mraw_predictions\u001b[0m\u001b[0;34m,\u001b[0m \u001b[0msample_weight\u001b[0m\u001b[0;34m,\u001b[0m \u001b[0mself\u001b[0m\u001b[0;34m.\u001b[0m\u001b[0m_rng\u001b[0m\u001b[0;34m,\u001b[0m \u001b[0mX_val\u001b[0m\u001b[0;34m,\u001b[0m \u001b[0my_val\u001b[0m\u001b[0;34m,\u001b[0m\u001b[0;34m\u001b[0m\u001b[0;34m\u001b[0m\u001b[0m\n\u001b[0;32m-> 1546\u001b[0;31m             sample_weight_val, begin_at_stage, monitor, X_idx_sorted)\n\u001b[0m\u001b[1;32m   1547\u001b[0m \u001b[0;34m\u001b[0m\u001b[0m\n\u001b[1;32m   1548\u001b[0m         \u001b[0;31m# change shape of arrays after fit (early-stopping or additional ests)\u001b[0m\u001b[0;34m\u001b[0m\u001b[0;34m\u001b[0m\u001b[0;34m\u001b[0m\u001b[0m\n",
      "\u001b[0;32m~/.local/lib/python3.7/site-packages/sklearn/ensemble/gradient_boosting.py\u001b[0m in \u001b[0;36m_fit_stages\u001b[0;34m(self, X, y, raw_predictions, sample_weight, random_state, X_val, y_val, sample_weight_val, begin_at_stage, monitor, X_idx_sorted)\u001b[0m\n\u001b[1;32m   1608\u001b[0m             raw_predictions = self._fit_stage(\n\u001b[1;32m   1609\u001b[0m                 \u001b[0mi\u001b[0m\u001b[0;34m,\u001b[0m \u001b[0mX\u001b[0m\u001b[0;34m,\u001b[0m \u001b[0my\u001b[0m\u001b[0;34m,\u001b[0m \u001b[0mraw_predictions\u001b[0m\u001b[0;34m,\u001b[0m \u001b[0msample_weight\u001b[0m\u001b[0;34m,\u001b[0m \u001b[0msample_mask\u001b[0m\u001b[0;34m,\u001b[0m\u001b[0;34m\u001b[0m\u001b[0;34m\u001b[0m\u001b[0m\n\u001b[0;32m-> 1610\u001b[0;31m                 random_state, X_idx_sorted, X_csc, X_csr)\n\u001b[0m\u001b[1;32m   1611\u001b[0m \u001b[0;34m\u001b[0m\u001b[0m\n\u001b[1;32m   1612\u001b[0m             \u001b[0;31m# track deviance (= loss)\u001b[0m\u001b[0;34m\u001b[0m\u001b[0;34m\u001b[0m\u001b[0;34m\u001b[0m\u001b[0m\n",
      "\u001b[0;32m~/.local/lib/python3.7/site-packages/sklearn/ensemble/gradient_boosting.py\u001b[0m in \u001b[0;36m_fit_stage\u001b[0;34m(self, i, X, y, raw_predictions, sample_weight, sample_mask, random_state, X_idx_sorted, X_csc, X_csr)\u001b[0m\n\u001b[1;32m   1242\u001b[0m             \u001b[0mX\u001b[0m \u001b[0;34m=\u001b[0m \u001b[0mX_csr\u001b[0m \u001b[0;32mif\u001b[0m \u001b[0mX_csr\u001b[0m \u001b[0;32mis\u001b[0m \u001b[0;32mnot\u001b[0m \u001b[0;32mNone\u001b[0m \u001b[0;32melse\u001b[0m \u001b[0mX\u001b[0m\u001b[0;34m\u001b[0m\u001b[0;34m\u001b[0m\u001b[0m\n\u001b[1;32m   1243\u001b[0m             tree.fit(X, residual, sample_weight=sample_weight,\n\u001b[0;32m-> 1244\u001b[0;31m                      check_input=False, X_idx_sorted=X_idx_sorted)\n\u001b[0m\u001b[1;32m   1245\u001b[0m \u001b[0;34m\u001b[0m\u001b[0m\n\u001b[1;32m   1246\u001b[0m             \u001b[0;31m# update tree leaves\u001b[0m\u001b[0;34m\u001b[0m\u001b[0;34m\u001b[0m\u001b[0;34m\u001b[0m\u001b[0m\n",
      "\u001b[0;32m~/.local/lib/python3.7/site-packages/sklearn/tree/tree.py\u001b[0m in \u001b[0;36mfit\u001b[0;34m(self, X, y, sample_weight, check_input, X_idx_sorted)\u001b[0m\n\u001b[1;32m   1155\u001b[0m             \u001b[0msample_weight\u001b[0m\u001b[0;34m=\u001b[0m\u001b[0msample_weight\u001b[0m\u001b[0;34m,\u001b[0m\u001b[0;34m\u001b[0m\u001b[0;34m\u001b[0m\u001b[0m\n\u001b[1;32m   1156\u001b[0m             \u001b[0mcheck_input\u001b[0m\u001b[0;34m=\u001b[0m\u001b[0mcheck_input\u001b[0m\u001b[0;34m,\u001b[0m\u001b[0;34m\u001b[0m\u001b[0;34m\u001b[0m\u001b[0m\n\u001b[0;32m-> 1157\u001b[0;31m             X_idx_sorted=X_idx_sorted)\n\u001b[0m\u001b[1;32m   1158\u001b[0m         \u001b[0;32mreturn\u001b[0m \u001b[0mself\u001b[0m\u001b[0;34m\u001b[0m\u001b[0;34m\u001b[0m\u001b[0m\n\u001b[1;32m   1159\u001b[0m \u001b[0;34m\u001b[0m\u001b[0m\n",
      "\u001b[0;32m~/.local/lib/python3.7/site-packages/sklearn/tree/tree.py\u001b[0m in \u001b[0;36mfit\u001b[0;34m(self, X, y, sample_weight, check_input, X_idx_sorted)\u001b[0m\n\u001b[1;32m    378\u001b[0m                                            min_impurity_split)\n\u001b[1;32m    379\u001b[0m \u001b[0;34m\u001b[0m\u001b[0m\n\u001b[0;32m--> 380\u001b[0;31m         \u001b[0mbuilder\u001b[0m\u001b[0;34m.\u001b[0m\u001b[0mbuild\u001b[0m\u001b[0;34m(\u001b[0m\u001b[0mself\u001b[0m\u001b[0;34m.\u001b[0m\u001b[0mtree_\u001b[0m\u001b[0;34m,\u001b[0m \u001b[0mX\u001b[0m\u001b[0;34m,\u001b[0m \u001b[0my\u001b[0m\u001b[0;34m,\u001b[0m \u001b[0msample_weight\u001b[0m\u001b[0;34m,\u001b[0m \u001b[0mX_idx_sorted\u001b[0m\u001b[0;34m)\u001b[0m\u001b[0;34m\u001b[0m\u001b[0;34m\u001b[0m\u001b[0m\n\u001b[0m\u001b[1;32m    381\u001b[0m \u001b[0;34m\u001b[0m\u001b[0m\n\u001b[1;32m    382\u001b[0m         \u001b[0;32mif\u001b[0m \u001b[0mself\u001b[0m\u001b[0;34m.\u001b[0m\u001b[0mn_outputs_\u001b[0m \u001b[0;34m==\u001b[0m \u001b[0;36m1\u001b[0m\u001b[0;34m:\u001b[0m\u001b[0;34m\u001b[0m\u001b[0;34m\u001b[0m\u001b[0m\n",
      "\u001b[0;31mKeyboardInterrupt\u001b[0m: "
     ]
    }
   ],
   "source": [
    "from sklearn.feature_selection import RFE\n",
    "clf = io.load(\"clf_GB\")\n",
    "print(\"Fitting RFE...\")\n",
    "rfe = RFE(estimator=clf, n_features_to_select=30, step=1)\n",
    "rfe.fit(X_train, y_train)\n",
    "print(\"Ranking:\", rfe.ranking_)"
   ]
  },
  {
   "cell_type": "code",
   "execution_count": 43,
   "metadata": {},
   "outputs": [
    {
     "name": "stdout",
     "output_type": "stream",
     "text": [
      "2019-07-03 13:44:08,546 - INFO - Loading data from `clf_GB` (PickleLocalDataSet)...\n"
     ]
    }
   ],
   "source": [
    "clf = io.load(\"clf_GB\")\n",
    "importances = clf.feature_importances_\n",
    "indices = np.argsort(importances)[::-1]"
   ]
  },
  {
   "cell_type": "code",
   "execution_count": 48,
   "metadata": {},
   "outputs": [
    {
     "data": {
      "text/plain": [
       "['sink_page_rank',\n",
       " 'sink_in_density',\n",
       " 'RA_undirected',\n",
       " 'RA_neighbors',\n",
       " 'source_out_centrality',\n",
       " 'log_node_boundary_size',\n",
       " 'RA_transient_in',\n",
       " 'sink_katz',\n",
       " 'sink_in_centrality',\n",
       " 'log_source_bi_degree',\n",
       " 'log_source_out_degree',\n",
       " 'log_sink_in_degree',\n",
       " 'cos_neighbors',\n",
       " 'sink_centrality',\n",
       " 'PA_predecessors',\n",
       " 'log_source_in_degree',\n",
       " 'source_in_density',\n",
       " 'AA_transient_in',\n",
       " 'RA_predecessors',\n",
       " 'JC_predecessors',\n",
       " 'link_efficiency',\n",
       " 'cos_predecessors',\n",
       " 'PA_transient_in',\n",
       " 'JC_neighbors',\n",
       " 'shortest_path',\n",
       " 'source_bi_density',\n",
       " 'log_sink_neighbors',\n",
       " 'source_in_centrality',\n",
       " 'JC_transient_in',\n",
       " 'PA_undirected']"
      ]
     },
     "execution_count": 48,
     "metadata": {},
     "output_type": "execute_result"
    }
   ],
   "source": [
    "list(features[indices])[:30]"
   ]
  },
  {
   "cell_type": "code",
   "execution_count": null,
   "metadata": {},
   "outputs": [],
   "source": []
  }
 ],
 "metadata": {
  "kernelspec": {
   "display_name": "Python 3",
   "language": "python",
   "name": "python3"
  },
  "language_info": {
   "codemirror_mode": {
    "name": "ipython",
    "version": 3
   },
   "file_extension": ".py",
   "mimetype": "text/x-python",
   "name": "python",
   "nbconvert_exporter": "python",
   "pygments_lexer": "ipython3",
   "version": "3.7.3"
  }
 },
 "nbformat": 4,
 "nbformat_minor": 2
}
