{
 "cells": [
  {
   "cell_type": "code",
   "execution_count": 1,
   "metadata": {},
   "outputs": [],
   "source": [
    "import networkx as nx\n",
    "from networkx.algorithms.assortativity import *"
   ]
  },
  {
   "cell_type": "code",
   "execution_count": 2,
   "metadata": {},
   "outputs": [
    {
     "name": "stdout",
     "output_type": "stream",
     "text": [
      "2019-06-29 13:18:28,841 - kedro.io.data_catalog - INFO - Loading data from `G_train` (PickleLocalDataSet)...\n",
      "2019-06-29 13:19:24,400 - kedro.io.data_catalog - INFO - Loading data from `DiG_train` (PickleLocalDataSet)...\n"
     ]
    }
   ],
   "source": [
    "G = io.load('G_train')\n",
    "DiG = io.load('DiG_train')"
   ]
  },
  {
   "cell_type": "code",
   "execution_count": 6,
   "metadata": {},
   "outputs": [
    {
     "name": "stdout",
     "output_type": "stream",
     "text": [
      "Eccentricity for 1300190: 5\n"
     ]
    }
   ],
   "source": [
    "from networkx.algorithms.distance_measures import *\n",
    "print('Eccentricity for 1300190: {}'.format(eccentricity(G, '1300190'))) "
   ]
  },
  {
   "cell_type": "code",
   "execution_count": null,
   "metadata": {},
   "outputs": [],
   "source": []
  }
 ],
 "metadata": {
  "kernelspec": {
   "display_name": "Python 3",
   "language": "python",
   "name": "python3"
  },
  "language_info": {
   "codemirror_mode": {
    "name": "ipython",
    "version": 3
   },
   "file_extension": ".py",
   "mimetype": "text/x-python",
   "name": "python",
   "nbconvert_exporter": "python",
   "pygments_lexer": "ipython3",
   "version": "3.7.3"
  }
 },
 "nbformat": 4,
 "nbformat_minor": 2
}
