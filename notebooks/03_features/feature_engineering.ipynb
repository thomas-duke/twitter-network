{
 "cells": [
  {
   "cell_type": "code",
   "execution_count": 19,
   "metadata": {},
   "outputs": [
    {
     "name": "stdout",
     "output_type": "stream",
     "text": [
      "2019-06-27 16:42:49,331 - kedro.io.data_catalog - INFO - Loading data from `non_stand_X_train` (PickleLocalDataSet)...\n"
     ]
    },
    {
     "data": {
      "text/html": [
       "<div>\n",
       "<style scoped>\n",
       "    .dataframe tbody tr th:only-of-type {\n",
       "        vertical-align: middle;\n",
       "    }\n",
       "\n",
       "    .dataframe tbody tr th {\n",
       "        vertical-align: top;\n",
       "    }\n",
       "\n",
       "    .dataframe thead th {\n",
       "        text-align: right;\n",
       "    }\n",
       "</style>\n",
       "<table border=\"1\" class=\"dataframe\">\n",
       "  <thead>\n",
       "    <tr style=\"text-align: right;\">\n",
       "      <th></th>\n",
       "      <th>source_in</th>\n",
       "      <th>sink_in</th>\n",
       "      <th>source_out</th>\n",
       "      <th>sink_out</th>\n",
       "      <th>shared_in</th>\n",
       "      <th>shared_out</th>\n",
       "      <th>weight_in</th>\n",
       "      <th>weight_out</th>\n",
       "      <th>jc_followers</th>\n",
       "      <th>jc_followees</th>\n",
       "      <th>cd_followers</th>\n",
       "      <th>cd_followees</th>\n",
       "      <th>follow_back</th>\n",
       "      <th>shortest_path</th>\n",
       "      <th>AA</th>\n",
       "      <th>RA</th>\n",
       "      <th>PA</th>\n",
       "    </tr>\n",
       "  </thead>\n",
       "  <tbody>\n",
       "    <tr>\n",
       "      <th>count</th>\n",
       "      <td>85644.000000</td>\n",
       "      <td>85644.000000</td>\n",
       "      <td>85644.000000</td>\n",
       "      <td>85644.000000</td>\n",
       "      <td>85644.000000</td>\n",
       "      <td>85644.000000</td>\n",
       "      <td>85644.0</td>\n",
       "      <td>85644.0</td>\n",
       "      <td>85644.000000</td>\n",
       "      <td>85644.000000</td>\n",
       "      <td>85644.0</td>\n",
       "      <td>85644.0</td>\n",
       "      <td>85644.000000</td>\n",
       "      <td>85644.000000</td>\n",
       "      <td>85644.0</td>\n",
       "      <td>85644.000000</td>\n",
       "      <td>8.564400e+04</td>\n",
       "    </tr>\n",
       "    <tr>\n",
       "      <th>mean</th>\n",
       "      <td>101.998949</td>\n",
       "      <td>185.804832</td>\n",
       "      <td>659.955046</td>\n",
       "      <td>1719.454463</td>\n",
       "      <td>10.090316</td>\n",
       "      <td>8.360469</td>\n",
       "      <td>1.0</td>\n",
       "      <td>1.0</td>\n",
       "      <td>0.041419</td>\n",
       "      <td>0.008591</td>\n",
       "      <td>0.0</td>\n",
       "      <td>0.0</td>\n",
       "      <td>0.052893</td>\n",
       "      <td>5.104316</td>\n",
       "      <td>0.0</td>\n",
       "      <td>0.145916</td>\n",
       "      <td>1.088938e+06</td>\n",
       "    </tr>\n",
       "    <tr>\n",
       "      <th>std</th>\n",
       "      <td>148.336950</td>\n",
       "      <td>413.070931</td>\n",
       "      <td>668.249944</td>\n",
       "      <td>22621.209141</td>\n",
       "      <td>26.689830</td>\n",
       "      <td>42.470355</td>\n",
       "      <td>0.0</td>\n",
       "      <td>0.0</td>\n",
       "      <td>0.072159</td>\n",
       "      <td>0.051980</td>\n",
       "      <td>0.0</td>\n",
       "      <td>0.0</td>\n",
       "      <td>0.223822</td>\n",
       "      <td>16.979250</td>\n",
       "      <td>0.0</td>\n",
       "      <td>3.253210</td>\n",
       "      <td>1.817608e+07</td>\n",
       "    </tr>\n",
       "    <tr>\n",
       "      <th>min</th>\n",
       "      <td>1.000000</td>\n",
       "      <td>1.000000</td>\n",
       "      <td>1.000000</td>\n",
       "      <td>0.000000</td>\n",
       "      <td>0.000000</td>\n",
       "      <td>0.000000</td>\n",
       "      <td>1.0</td>\n",
       "      <td>1.0</td>\n",
       "      <td>0.000000</td>\n",
       "      <td>0.000000</td>\n",
       "      <td>0.0</td>\n",
       "      <td>0.0</td>\n",
       "      <td>0.000000</td>\n",
       "      <td>0.000000</td>\n",
       "      <td>0.0</td>\n",
       "      <td>0.000000</td>\n",
       "      <td>0.000000e+00</td>\n",
       "    </tr>\n",
       "    <tr>\n",
       "      <th>25%</th>\n",
       "      <td>25.000000</td>\n",
       "      <td>9.000000</td>\n",
       "      <td>135.000000</td>\n",
       "      <td>0.000000</td>\n",
       "      <td>1.000000</td>\n",
       "      <td>0.000000</td>\n",
       "      <td>1.0</td>\n",
       "      <td>1.0</td>\n",
       "      <td>0.002778</td>\n",
       "      <td>0.000000</td>\n",
       "      <td>0.0</td>\n",
       "      <td>0.0</td>\n",
       "      <td>0.000000</td>\n",
       "      <td>2.000000</td>\n",
       "      <td>0.0</td>\n",
       "      <td>0.000000</td>\n",
       "      <td>0.000000e+00</td>\n",
       "    </tr>\n",
       "    <tr>\n",
       "      <th>50%</th>\n",
       "      <td>59.000000</td>\n",
       "      <td>40.000000</td>\n",
       "      <td>374.000000</td>\n",
       "      <td>0.000000</td>\n",
       "      <td>3.000000</td>\n",
       "      <td>0.000000</td>\n",
       "      <td>1.0</td>\n",
       "      <td>1.0</td>\n",
       "      <td>0.020408</td>\n",
       "      <td>0.000000</td>\n",
       "      <td>0.0</td>\n",
       "      <td>0.0</td>\n",
       "      <td>0.000000</td>\n",
       "      <td>2.000000</td>\n",
       "      <td>0.0</td>\n",
       "      <td>0.000000</td>\n",
       "      <td>0.000000e+00</td>\n",
       "    </tr>\n",
       "    <tr>\n",
       "      <th>75%</th>\n",
       "      <td>125.000000</td>\n",
       "      <td>154.000000</td>\n",
       "      <td>1042.000000</td>\n",
       "      <td>28.000000</td>\n",
       "      <td>10.000000</td>\n",
       "      <td>0.000000</td>\n",
       "      <td>1.0</td>\n",
       "      <td>1.0</td>\n",
       "      <td>0.053529</td>\n",
       "      <td>0.000000</td>\n",
       "      <td>0.0</td>\n",
       "      <td>0.0</td>\n",
       "      <td>0.000000</td>\n",
       "      <td>2.000000</td>\n",
       "      <td>0.0</td>\n",
       "      <td>0.000000</td>\n",
       "      <td>1.950000e+03</td>\n",
       "    </tr>\n",
       "    <tr>\n",
       "      <th>max</th>\n",
       "      <td>3432.000000</td>\n",
       "      <td>4841.000000</td>\n",
       "      <td>2496.000000</td>\n",
       "      <td>761793.000000</td>\n",
       "      <td>1585.000000</td>\n",
       "      <td>1569.000000</td>\n",
       "      <td>1.0</td>\n",
       "      <td>1.0</td>\n",
       "      <td>1.000000</td>\n",
       "      <td>1.000000</td>\n",
       "      <td>0.0</td>\n",
       "      <td>0.0</td>\n",
       "      <td>1.000000</td>\n",
       "      <td>100.000000</td>\n",
       "      <td>0.0</td>\n",
       "      <td>721.911536</td>\n",
       "      <td>1.560914e+09</td>\n",
       "    </tr>\n",
       "  </tbody>\n",
       "</table>\n",
       "</div>"
      ],
      "text/plain": [
       "          source_in       sink_in    source_out       sink_out     shared_in  \\\n",
       "count  85644.000000  85644.000000  85644.000000   85644.000000  85644.000000   \n",
       "mean     101.998949    185.804832    659.955046    1719.454463     10.090316   \n",
       "std      148.336950    413.070931    668.249944   22621.209141     26.689830   \n",
       "min        1.000000      1.000000      1.000000       0.000000      0.000000   \n",
       "25%       25.000000      9.000000    135.000000       0.000000      1.000000   \n",
       "50%       59.000000     40.000000    374.000000       0.000000      3.000000   \n",
       "75%      125.000000    154.000000   1042.000000      28.000000     10.000000   \n",
       "max     3432.000000   4841.000000   2496.000000  761793.000000   1585.000000   \n",
       "\n",
       "         shared_out  weight_in  weight_out  jc_followers  jc_followees  \\\n",
       "count  85644.000000    85644.0     85644.0  85644.000000  85644.000000   \n",
       "mean       8.360469        1.0         1.0      0.041419      0.008591   \n",
       "std       42.470355        0.0         0.0      0.072159      0.051980   \n",
       "min        0.000000        1.0         1.0      0.000000      0.000000   \n",
       "25%        0.000000        1.0         1.0      0.002778      0.000000   \n",
       "50%        0.000000        1.0         1.0      0.020408      0.000000   \n",
       "75%        0.000000        1.0         1.0      0.053529      0.000000   \n",
       "max     1569.000000        1.0         1.0      1.000000      1.000000   \n",
       "\n",
       "       cd_followers  cd_followees   follow_back  shortest_path       AA  \\\n",
       "count       85644.0       85644.0  85644.000000   85644.000000  85644.0   \n",
       "mean            0.0           0.0      0.052893       5.104316      0.0   \n",
       "std             0.0           0.0      0.223822      16.979250      0.0   \n",
       "min             0.0           0.0      0.000000       0.000000      0.0   \n",
       "25%             0.0           0.0      0.000000       2.000000      0.0   \n",
       "50%             0.0           0.0      0.000000       2.000000      0.0   \n",
       "75%             0.0           0.0      0.000000       2.000000      0.0   \n",
       "max             0.0           0.0      1.000000     100.000000      0.0   \n",
       "\n",
       "                 RA            PA  \n",
       "count  85644.000000  8.564400e+04  \n",
       "mean       0.145916  1.088938e+06  \n",
       "std        3.253210  1.817608e+07  \n",
       "min        0.000000  0.000000e+00  \n",
       "25%        0.000000  0.000000e+00  \n",
       "50%        0.000000  0.000000e+00  \n",
       "75%        0.000000  1.950000e+03  \n",
       "max      721.911536  1.560914e+09  "
      ]
     },
     "execution_count": 19,
     "metadata": {},
     "output_type": "execute_result"
    }
   ],
   "source": [
    "X_train = io.load('non_stand_X_train'); X_train.describe()"
   ]
  },
  {
   "cell_type": "code",
   "execution_count": 20,
   "metadata": {
    "scrolled": true
   },
   "outputs": [
    {
     "name": "stdout",
     "output_type": "stream",
     "text": [
      "2019-06-27 16:42:52,375 - kedro.io.data_catalog - INFO - Loading data from `non_stand_X_test` (PickleLocalDataSet)...\n"
     ]
    },
    {
     "data": {
      "text/html": [
       "<div>\n",
       "<style scoped>\n",
       "    .dataframe tbody tr th:only-of-type {\n",
       "        vertical-align: middle;\n",
       "    }\n",
       "\n",
       "    .dataframe tbody tr th {\n",
       "        vertical-align: top;\n",
       "    }\n",
       "\n",
       "    .dataframe thead th {\n",
       "        text-align: right;\n",
       "    }\n",
       "</style>\n",
       "<table border=\"1\" class=\"dataframe\">\n",
       "  <thead>\n",
       "    <tr style=\"text-align: right;\">\n",
       "      <th></th>\n",
       "      <th>source_in</th>\n",
       "      <th>sink_in</th>\n",
       "      <th>source_out</th>\n",
       "      <th>sink_out</th>\n",
       "      <th>shared_in</th>\n",
       "      <th>shared_out</th>\n",
       "      <th>weight_in</th>\n",
       "      <th>weight_out</th>\n",
       "      <th>jc_followers</th>\n",
       "      <th>jc_followees</th>\n",
       "      <th>cd_followers</th>\n",
       "      <th>cd_followees</th>\n",
       "      <th>follow_back</th>\n",
       "      <th>shortest_path</th>\n",
       "      <th>AA</th>\n",
       "      <th>RA</th>\n",
       "      <th>PA</th>\n",
       "    </tr>\n",
       "  </thead>\n",
       "  <tbody>\n",
       "    <tr>\n",
       "      <th>count</th>\n",
       "      <td>2000.000000</td>\n",
       "      <td>2000.000000</td>\n",
       "      <td>2000.000000</td>\n",
       "      <td>2000.000000</td>\n",
       "      <td>2000.000000</td>\n",
       "      <td>2000.000000</td>\n",
       "      <td>2000.0</td>\n",
       "      <td>2000.0</td>\n",
       "      <td>2000.000000</td>\n",
       "      <td>2000.000000</td>\n",
       "      <td>2000.0</td>\n",
       "      <td>2000.0</td>\n",
       "      <td>2000.000000</td>\n",
       "      <td>2000.000000</td>\n",
       "      <td>2000.0</td>\n",
       "      <td>2000.000000</td>\n",
       "      <td>2.000000e+03</td>\n",
       "    </tr>\n",
       "    <tr>\n",
       "      <th>mean</th>\n",
       "      <td>90.911500</td>\n",
       "      <td>143.195000</td>\n",
       "      <td>1322.911000</td>\n",
       "      <td>1805.298500</td>\n",
       "      <td>6.222000</td>\n",
       "      <td>5.619000</td>\n",
       "      <td>1.0</td>\n",
       "      <td>1.0</td>\n",
       "      <td>0.033103</td>\n",
       "      <td>0.006996</td>\n",
       "      <td>0.0</td>\n",
       "      <td>0.0</td>\n",
       "      <td>0.078000</td>\n",
       "      <td>3.659500</td>\n",
       "      <td>0.0</td>\n",
       "      <td>0.102999</td>\n",
       "      <td>7.964123e+05</td>\n",
       "    </tr>\n",
       "    <tr>\n",
       "      <th>std</th>\n",
       "      <td>166.978548</td>\n",
       "      <td>358.116046</td>\n",
       "      <td>9872.649067</td>\n",
       "      <td>27406.064267</td>\n",
       "      <td>16.370086</td>\n",
       "      <td>98.356097</td>\n",
       "      <td>0.0</td>\n",
       "      <td>0.0</td>\n",
       "      <td>0.071819</td>\n",
       "      <td>0.032182</td>\n",
       "      <td>0.0</td>\n",
       "      <td>0.0</td>\n",
       "      <td>0.268239</td>\n",
       "      <td>10.413971</td>\n",
       "      <td>0.0</td>\n",
       "      <td>1.666079</td>\n",
       "      <td>1.648674e+07</td>\n",
       "    </tr>\n",
       "    <tr>\n",
       "      <th>min</th>\n",
       "      <td>1.000000</td>\n",
       "      <td>1.000000</td>\n",
       "      <td>1.000000</td>\n",
       "      <td>0.000000</td>\n",
       "      <td>0.000000</td>\n",
       "      <td>0.000000</td>\n",
       "      <td>1.0</td>\n",
       "      <td>1.0</td>\n",
       "      <td>0.000000</td>\n",
       "      <td>0.000000</td>\n",
       "      <td>0.0</td>\n",
       "      <td>0.0</td>\n",
       "      <td>0.000000</td>\n",
       "      <td>2.000000</td>\n",
       "      <td>0.0</td>\n",
       "      <td>0.000000</td>\n",
       "      <td>0.000000e+00</td>\n",
       "    </tr>\n",
       "    <tr>\n",
       "      <th>25%</th>\n",
       "      <td>12.000000</td>\n",
       "      <td>7.000000</td>\n",
       "      <td>63.000000</td>\n",
       "      <td>0.000000</td>\n",
       "      <td>0.000000</td>\n",
       "      <td>0.000000</td>\n",
       "      <td>1.0</td>\n",
       "      <td>1.0</td>\n",
       "      <td>0.000000</td>\n",
       "      <td>0.000000</td>\n",
       "      <td>0.0</td>\n",
       "      <td>0.0</td>\n",
       "      <td>0.000000</td>\n",
       "      <td>2.000000</td>\n",
       "      <td>0.0</td>\n",
       "      <td>0.000000</td>\n",
       "      <td>0.000000e+00</td>\n",
       "    </tr>\n",
       "    <tr>\n",
       "      <th>50%</th>\n",
       "      <td>36.000000</td>\n",
       "      <td>33.000000</td>\n",
       "      <td>161.000000</td>\n",
       "      <td>0.000000</td>\n",
       "      <td>1.000000</td>\n",
       "      <td>0.000000</td>\n",
       "      <td>1.0</td>\n",
       "      <td>1.0</td>\n",
       "      <td>0.004773</td>\n",
       "      <td>0.000000</td>\n",
       "      <td>0.0</td>\n",
       "      <td>0.0</td>\n",
       "      <td>0.000000</td>\n",
       "      <td>2.000000</td>\n",
       "      <td>0.0</td>\n",
       "      <td>0.000000</td>\n",
       "      <td>0.000000e+00</td>\n",
       "    </tr>\n",
       "    <tr>\n",
       "      <th>75%</th>\n",
       "      <td>96.000000</td>\n",
       "      <td>118.000000</td>\n",
       "      <td>485.250000</td>\n",
       "      <td>0.000000</td>\n",
       "      <td>5.000000</td>\n",
       "      <td>0.000000</td>\n",
       "      <td>1.0</td>\n",
       "      <td>1.0</td>\n",
       "      <td>0.034748</td>\n",
       "      <td>0.000000</td>\n",
       "      <td>0.0</td>\n",
       "      <td>0.0</td>\n",
       "      <td>0.000000</td>\n",
       "      <td>3.000000</td>\n",
       "      <td>0.0</td>\n",
       "      <td>0.000000</td>\n",
       "      <td>0.000000e+00</td>\n",
       "    </tr>\n",
       "    <tr>\n",
       "      <th>max</th>\n",
       "      <td>2022.000000</td>\n",
       "      <td>4841.000000</td>\n",
       "      <td>370904.000000</td>\n",
       "      <td>761793.000000</td>\n",
       "      <td>334.000000</td>\n",
       "      <td>4353.000000</td>\n",
       "      <td>1.0</td>\n",
       "      <td>1.0</td>\n",
       "      <td>1.000000</td>\n",
       "      <td>0.545455</td>\n",
       "      <td>0.0</td>\n",
       "      <td>0.0</td>\n",
       "      <td>1.000000</td>\n",
       "      <td>100.000000</td>\n",
       "      <td>0.0</td>\n",
       "      <td>70.523925</td>\n",
       "      <td>6.719662e+08</td>\n",
       "    </tr>\n",
       "  </tbody>\n",
       "</table>\n",
       "</div>"
      ],
      "text/plain": [
       "         source_in      sink_in     source_out       sink_out    shared_in  \\\n",
       "count  2000.000000  2000.000000    2000.000000    2000.000000  2000.000000   \n",
       "mean     90.911500   143.195000    1322.911000    1805.298500     6.222000   \n",
       "std     166.978548   358.116046    9872.649067   27406.064267    16.370086   \n",
       "min       1.000000     1.000000       1.000000       0.000000     0.000000   \n",
       "25%      12.000000     7.000000      63.000000       0.000000     0.000000   \n",
       "50%      36.000000    33.000000     161.000000       0.000000     1.000000   \n",
       "75%      96.000000   118.000000     485.250000       0.000000     5.000000   \n",
       "max    2022.000000  4841.000000  370904.000000  761793.000000   334.000000   \n",
       "\n",
       "        shared_out  weight_in  weight_out  jc_followers  jc_followees  \\\n",
       "count  2000.000000     2000.0      2000.0   2000.000000   2000.000000   \n",
       "mean      5.619000        1.0         1.0      0.033103      0.006996   \n",
       "std      98.356097        0.0         0.0      0.071819      0.032182   \n",
       "min       0.000000        1.0         1.0      0.000000      0.000000   \n",
       "25%       0.000000        1.0         1.0      0.000000      0.000000   \n",
       "50%       0.000000        1.0         1.0      0.004773      0.000000   \n",
       "75%       0.000000        1.0         1.0      0.034748      0.000000   \n",
       "max    4353.000000        1.0         1.0      1.000000      0.545455   \n",
       "\n",
       "       cd_followers  cd_followees  follow_back  shortest_path      AA  \\\n",
       "count        2000.0        2000.0  2000.000000    2000.000000  2000.0   \n",
       "mean            0.0           0.0     0.078000       3.659500     0.0   \n",
       "std             0.0           0.0     0.268239      10.413971     0.0   \n",
       "min             0.0           0.0     0.000000       2.000000     0.0   \n",
       "25%             0.0           0.0     0.000000       2.000000     0.0   \n",
       "50%             0.0           0.0     0.000000       2.000000     0.0   \n",
       "75%             0.0           0.0     0.000000       3.000000     0.0   \n",
       "max             0.0           0.0     1.000000     100.000000     0.0   \n",
       "\n",
       "                RA            PA  \n",
       "count  2000.000000  2.000000e+03  \n",
       "mean      0.102999  7.964123e+05  \n",
       "std       1.666079  1.648674e+07  \n",
       "min       0.000000  0.000000e+00  \n",
       "25%       0.000000  0.000000e+00  \n",
       "50%       0.000000  0.000000e+00  \n",
       "75%       0.000000  0.000000e+00  \n",
       "max      70.523925  6.719662e+08  "
      ]
     },
     "execution_count": 20,
     "metadata": {},
     "output_type": "execute_result"
    }
   ],
   "source": [
    "X_test = io.load('non_stand_X_test'); X_test.describe()"
   ]
  },
  {
   "cell_type": "code",
   "execution_count": 1,
   "metadata": {},
   "outputs": [
    {
     "name": "stdout",
     "output_type": "stream",
     "text": [
      "2019-06-29 21:28:15,187 - kedro.io.data_catalog - INFO - Loading data from `G_train` (PickleLocalDataSet)...\n",
      "2019-06-29 21:29:08,378 - kedro.io.data_catalog - INFO - Loading data from `DiG_train` (PickleLocalDataSet)...\n",
      "2019-06-29 21:31:10,638 - kedro.io.data_catalog - INFO - Loading data from `edges_test` (PickleLocalDataSet)...\n"
     ]
    }
   ],
   "source": [
    "import networkx as nx\n",
    "G = io.load('G_train')\n",
    "DiG = io.load('DiG_train')\n",
    "edges_test = io.load('edges_test')"
   ]
  },
  {
   "cell_type": "code",
   "execution_count": 85,
   "metadata": {},
   "outputs": [],
   "source": [
    "test = edges_test[1000]\n",
    "source, target = test"
   ]
  },
  {
   "cell_type": "code",
   "execution_count": 15,
   "metadata": {},
   "outputs": [],
   "source": [
    "import pickle\n",
    "with open(\"data/04_features/test_connectivity.pkl\", 'rb') as f:\n",
    "    connectivity = pickle.load(f)"
   ]
  },
  {
   "cell_type": "code",
   "execution_count": 22,
   "metadata": {},
   "outputs": [
    {
     "data": {
      "text/plain": [
       "count    2000.000000\n",
       "mean       33.731500\n",
       "std        51.559302\n",
       "min         0.000000\n",
       "0%          0.000000\n",
       "10%         1.000000\n",
       "20%         3.000000\n",
       "30.0%       5.000000\n",
       "40%         9.000000\n",
       "50%        15.000000\n",
       "60.0%      24.000000\n",
       "70%        33.000000\n",
       "80%        50.000000\n",
       "90%        88.000000\n",
       "max       435.000000\n",
       "dtype: float64"
      ]
     },
     "execution_count": 22,
     "metadata": {},
     "output_type": "execute_result"
    }
   ],
   "source": [
    "connectivity.describe(percentiles = [k * 0.1 for k in range(10)])"
   ]
  },
  {
   "cell_type": "code",
   "execution_count": 21,
   "metadata": {},
   "outputs": [
    {
     "data": {
      "text/plain": [
       "15"
      ]
     },
     "execution_count": 21,
     "metadata": {},
     "output_type": "execute_result"
    }
   ],
   "source": [
    "from networkx.algorithms.approximation.connectivity import local_node_connectivity\n",
    "local_node_connectivity(DiG, source, target, cutoff = 100)"
   ]
  },
  {
   "cell_type": "code",
   "execution_count": 38,
   "metadata": {},
   "outputs": [
    {
     "name": "stdout",
     "output_type": "stream",
     "text": [
      "Average neighbor degree: 15856.105263157895\n"
     ]
    }
   ],
   "source": [
    "# Assortativity\n",
    "from networkx.algorithms.assortativity import *\n",
    "print('Average neighbor degree: {}'.format(average_neighbor_degree(DiG, nodes = [source])[source]))"
   ]
  },
  {
   "cell_type": "code",
   "execution_count": 44,
   "metadata": {},
   "outputs": [
    {
     "name": "stdout",
     "output_type": "stream",
     "text": [
      "Size of node boundary: 276\n"
     ]
    }
   ],
   "source": [
    "# Boundary size\n",
    "from networkx.algorithms.boundary import *\n",
    "print('Size of node boundary: {}'.format(len(list(node_boundary(DiG, test)))))"
   ]
  },
  {
   "cell_type": "code",
   "execution_count": 45,
   "metadata": {},
   "outputs": [
    {
     "name": "stdout",
     "output_type": "stream",
     "text": [
      "2819109\n",
      "Centrality: 8.423846883228018e-05\n",
      "In-Centrality: 2.753159713055011e-05\n",
      "Out-Centrality: 5.6706871701730074e-05\n",
      "242455\n",
      "Centrality: 8.218387203149286e-07\n",
      "In-Centrality: 8.218387203149286e-07\n",
      "Out-Centrality: 0.0\n"
     ]
    }
   ],
   "source": [
    "# Centrality\n",
    "from networkx.algorithms.centrality import *\n",
    "centrality = degree_centrality(DiG)\n",
    "in_centrality = in_degree_centrality(DiG)\n",
    "out_centrality = out_degree_centrality(DiG)\n",
    "\n",
    "for node in test:\n",
    "    print(node)\n",
    "    print('Centrality: {}'.format(centrality[node]))\n",
    "    print('In-Centrality: {}'.format(in_centrality[node]))\n",
    "    print('Out-Centrality: {}'.format(out_centrality[node]))"
   ]
  },
  {
   "cell_type": "code",
   "execution_count": 48,
   "metadata": {},
   "outputs": [
    {
     "name": "stdout",
     "output_type": "stream",
     "text": [
      "Dispersion: 0.0\n"
     ]
    }
   ],
   "source": [
    "print('Dispersion: {}'.format(dispersion(G, source, target)))"
   ]
  },
  {
   "cell_type": "code",
   "execution_count": 93,
   "metadata": {},
   "outputs": [
    {
     "data": {
      "text/plain": [
       "[0.0, 0.0, 0.0, 0.0, 0.3333333333333333, 0.0, 0.0, 0.0, 0.0, 0.0]"
      ]
     },
     "execution_count": 93,
     "metadata": {},
     "output_type": "execute_result"
    }
   ],
   "source": [
    "[dispersion(G, u, v) for u, v in edges_test[:10]]"
   ]
  },
  {
   "cell_type": "code",
   "execution_count": 52,
   "metadata": {
    "scrolled": true
   },
   "outputs": [
    {
     "name": "stdout",
     "output_type": "stream",
     "text": [
      "Triangles: 4438\n",
      "Clustering: 0.03639042313335799\n",
      "Average clustering: 0.18486187823334566\n"
     ]
    }
   ],
   "source": [
    "from networkx.algorithms.cluster import *\n",
    "print('Triangles: {}'.format(triangles(G, source)))\n",
    "print('Clustering: {}'.format(clustering(DiG, [source])[source]))\n",
    "print('Average clustering: {}'.format(average_clustering(DiG, test)))"
   ]
  },
  {
   "cell_type": "code",
   "execution_count": 55,
   "metadata": {},
   "outputs": [
    {
     "name": "stdout",
     "output_type": "stream",
     "text": [
      "Efficiency: 0.3333333333333333\n",
      "Shortest path length (1/efficiency): 3\n"
     ]
    }
   ],
   "source": [
    "from networkx.algorithms.efficiency import *\n",
    "print('Efficiency: {}'.format(efficiency(G, source, target))) \n",
    "# is reciprocal of\n",
    "print('Shortest path length (1/efficiency): {}'.format(nx.shortest_path_length(DiG, source, target))) "
   ]
  },
  {
   "cell_type": "code",
   "execution_count": 56,
   "metadata": {},
   "outputs": [
    {
     "name": "stdout",
     "output_type": "stream",
     "text": [
      "Reciprocity: 0.08780487804878048\n"
     ]
    }
   ],
   "source": [
    "from networkx.algorithms.reciprocity import *\n",
    "print('Reciprocity: {}'.format(reciprocity(DiG, [source])[source])) "
   ]
  },
  {
   "cell_type": "code",
   "execution_count": 108,
   "metadata": {},
   "outputs": [
    {
     "name": "stdout",
     "output_type": "stream",
     "text": [
      "Shortest path length: 2\n"
     ]
    }
   ],
   "source": [
    "from networkx.algorithms.shortest_paths import *\n",
    "print('Shortest path length: {}'.format(shortest_path_length(DiG, source, target))) "
   ]
  },
  {
   "cell_type": "code",
   "execution_count": 86,
   "metadata": {},
   "outputs": [
    {
     "name": "stdout",
     "output_type": "stream",
     "text": [
      "Local constraint: 1.0497155015678269e-12\n"
     ]
    }
   ],
   "source": [
    "from networkx.algorithms.structuralholes import *\n",
    "print('Local constraint: {}'.format(local_constraint(G, source, target)))"
   ]
  },
  {
   "cell_type": "code",
   "execution_count": 87,
   "metadata": {
    "scrolled": true
   },
   "outputs": [
    {
     "name": "stdout",
     "output_type": "stream",
     "text": [
      "Constraint of target: nan\n"
     ]
    }
   ],
   "source": [
    "print('Constraint of target: {}'.format(constraint(DiG, [target])[target]))"
   ]
  },
  {
   "cell_type": "code",
   "execution_count": 88,
   "metadata": {},
   "outputs": [
    {
     "name": "stdout",
     "output_type": "stream",
     "text": [
      "Effective size of target ego network: nan\n"
     ]
    }
   ],
   "source": [
    "print('Effective size of target ego network: {}'.format(effective_size(DiG, [target])[target]))"
   ]
  },
  {
   "cell_type": "code",
   "execution_count": null,
   "metadata": {},
   "outputs": [],
   "source": []
  }
 ],
 "metadata": {
  "kernelspec": {
   "display_name": "Python 3",
   "language": "python",
   "name": "python3"
  },
  "language_info": {
   "codemirror_mode": {
    "name": "ipython",
    "version": 3
   },
   "file_extension": ".py",
   "mimetype": "text/x-python",
   "name": "python",
   "nbconvert_exporter": "python",
   "pygments_lexer": "ipython3",
   "version": "3.7.0"
  }
 },
 "nbformat": 4,
 "nbformat_minor": 2
}
