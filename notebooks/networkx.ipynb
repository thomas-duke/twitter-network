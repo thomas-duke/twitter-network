{
 "cells": [
  {
   "cell_type": "code",
   "execution_count": 1,
   "metadata": {},
   "outputs": [],
   "source": [
    "import networkx as nx\n",
    "import csv\n",
    "from collections import defaultdict\n",
    "from itertools import product\n",
    "\n",
    "NUM_ROWS = 20000\n",
    "following = defaultdict(list)\n",
    "G = nx.Graph()"
   ]
  },
  {
   "cell_type": "code",
   "execution_count": 2,
   "metadata": {},
   "outputs": [],
   "source": [
    "with open('data/01_raw/train.txt', 'r') as f:\n",
    "    for i in range(NUM_ROWS): \n",
    "        if f:\n",
    "            line = next(f)\n",
    "            nodes = line.strip('\\n').split('\\t')\n",
    "            source = nodes[0]\n",
    "            sinks = nodes[1:]\n",
    "            following[source] = sinks   \n",
    "    f.close()"
   ]
  },
  {
   "cell_type": "code",
   "execution_count": 3,
   "metadata": {},
   "outputs": [],
   "source": [
    "nodes = list(following.keys())\n",
    "\n",
    "for n in nodes:\n",
    "    targets = following[n]\n",
    "    combinations = list(product([n], targets))\n",
    "    G.add_edges_from(combinations)"
   ]
  },
  {
   "cell_type": "code",
   "execution_count": 4,
   "metadata": {},
   "outputs": [
    {
     "data": {
      "text/plain": [
       "23416061"
      ]
     },
     "execution_count": 4,
     "metadata": {},
     "output_type": "execute_result"
    }
   ],
   "source": [
    "G.number_of_edges()"
   ]
  },
  {
   "cell_type": "code",
   "execution_count": 6,
   "metadata": {},
   "outputs": [],
   "source": [
    "test_pairs = []\n",
    "with open('data/01_raw/test-public.txt', 'r') as f:\n",
    "    test = csv.DictReader(f, delimiter='\\t')\n",
    "    for row in test:\n",
    "        source = row['Source']\n",
    "        sink = row['Sink']\n",
    "        test_pairs.append((source, sink))"
   ]
  },
  {
   "cell_type": "code",
   "execution_count": 10,
   "metadata": {},
   "outputs": [
    {
     "data": {
      "text/plain": [
       "[('2184483', '1300190'),\n",
       " ('3151356', '1452193'),\n",
       " ('1579396', '193159'),\n",
       " ('1406432', '2481036'),\n",
       " ('2389638', '593017')]"
      ]
     },
     "execution_count": 10,
     "metadata": {},
     "output_type": "execute_result"
    }
   ],
   "source": [
    "test_pairs[:5]"
   ]
  },
  {
   "cell_type": "code",
   "execution_count": 7,
   "metadata": {},
   "outputs": [],
   "source": [
    "from networkx.algorithms import link_prediction as lp\n",
    "\n",
    "ra = lp.resource_allocation_index(G, test_pairs)\n",
    "jc = lp.jaccard_coefficient(G, test_pairs)\n",
    "aa = lp.adamic_adar_index(G, test_pairs)\n",
    "pa = lp.preferential_attachment(G, test_pairs)"
   ]
  },
  {
   "cell_type": "code",
   "execution_count": 8,
   "metadata": {},
   "outputs": [],
   "source": [
    "missing = {}\n",
    "for ra_index, jc_index, aa_index, pa_index in zip(ra, jc, aa, pa):\n",
    "    pair = (ra_index[0],ra_index[1])\n",
    "    missing[pair] = {}\n",
    "    missing[pair]['ra'] = ra_index[2]\n",
    "    missing[pair]['jc'] = jc_index[2]\n",
    "    missing[pair]['aa'] = aa_index[2]\n",
    "    missing[pair]['pa'] = pa_index[2]"
   ]
  },
  {
   "cell_type": "code",
   "execution_count": 11,
   "metadata": {},
   "outputs": [],
   "source": [
    "import numpy as np\n",
    "\n",
    "vals_ra = list(x['ra'] for x in missing.values())\n",
    "vals_jc = list(x['jc'] for x in missing.values())\n",
    "vals_aa = list(x['aa'] for x in missing.values())\n",
    "vals_pa = list(x['pa'] for x in missing.values())\n",
    "mid_ra = np.percentile(vals_ra, 60)\n",
    "mid_jc = np.percentile(vals_jc, 60)\n",
    "mid_aa = np.percentile(vals_aa, 60)\n",
    "mid_pa = np.percentile(vals_pa, 60)"
   ]
  },
  {
   "cell_type": "code",
   "execution_count": 12,
   "metadata": {},
   "outputs": [],
   "source": [
    "preds = {}\n",
    "\n",
    "for pair in missing.keys():\n",
    "    val = missing[pair]\n",
    "    ra = val['ra']\n",
    "    jc = val['jc']\n",
    "    aa = val['aa']\n",
    "    pa = val['pa']\n",
    "    \n",
    "    predictions = []\n",
    "    if ra > mid_ra:\n",
    "        predictions.append(1)\n",
    "    else:\n",
    "        predictions.append(0)\n",
    "    if jc > mid_jc:\n",
    "        predictions.append(1)\n",
    "    else:\n",
    "        predictions.append(0)\n",
    "    if aa > mid_aa:\n",
    "        predictions.append(1)\n",
    "    else:\n",
    "        predictions.append(0)\n",
    "    if pa > mid_pa:\n",
    "        predictions.append(1)\n",
    "    else:\n",
    "        predictions.append(0)\n",
    "    \n",
    "    preds[pair] = np.mean(predictions)"
   ]
  },
  {
   "cell_type": "code",
   "execution_count": 13,
   "metadata": {},
   "outputs": [
    {
     "name": "stdout",
     "output_type": "stream",
     "text": [
      "735\n"
     ]
    }
   ],
   "source": [
    "print(sum([1 for x in preds.values() if x > 0.5]))"
   ]
  },
  {
   "cell_type": "code",
   "execution_count": 14,
   "metadata": {},
   "outputs": [],
   "source": [
    "import pandas as pd\n",
    "\n",
    "row_list = []\n",
    "for i in range(1, 2001):\n",
    "    pair = test_pairs[i-1]\n",
    "    row = {}\n",
    "    row['Id'] = i\n",
    "    row['Predictions'] = preds[pair]\n",
    "    row_list.append(row)\n",
    "\n",
    "predictions = pd.DataFrame(row_list)\n",
    "predictions.to_csv('naive_predictions.csv', index=False)"
   ]
  },
  {
   "cell_type": "code",
   "execution_count": 15,
   "metadata": {},
   "outputs": [],
   "source": [
    "inv_distance = {}\n",
    "\n",
    "for pair in test_pairs:\n",
    "    source = pair[0]\n",
    "    sink = pair[1]\n",
    "    distance = nx.shortest_path_length(G, source=source, target=sink)\n",
    "    inv_distance[pair] = 1/distance"
   ]
  },
  {
   "cell_type": "code",
   "execution_count": 16,
   "metadata": {},
   "outputs": [],
   "source": [
    "vals_dis = list(inv_distance.values())\n",
    "mid_dis = np.percentile(vals_dis, 25)"
   ]
  },
  {
   "cell_type": "code",
   "execution_count": 17,
   "metadata": {},
   "outputs": [],
   "source": [
    "preds = {}\n",
    "\n",
    "for pair in missing.keys():\n",
    "    val = missing[pair]\n",
    "    ra = val['ra']\n",
    "    jc = val['jc']\n",
    "    aa = val['aa']\n",
    "    pa = val['pa']\n",
    "    inv_dis = inv_distance[pair]\n",
    "    \n",
    "    predictions = []\n",
    "    if inv_dis > mid_dis:\n",
    "        predictions.append(1)\n",
    "    else:\n",
    "        predictions.append(0)\n",
    "    if ra > mid_ra:\n",
    "        predictions.append(1)\n",
    "    else:\n",
    "        predictions.append(0)\n",
    "    if jc > mid_jc:\n",
    "        predictions.append(1)\n",
    "    else:\n",
    "        predictions.append(0)\n",
    "    if aa > mid_aa:\n",
    "        predictions.append(1)\n",
    "    else:\n",
    "        predictions.append(0)\n",
    "    if pa > mid_pa:\n",
    "        predictions.append(1)\n",
    "    else:\n",
    "        predictions.append(0)\n",
    "    \n",
    "    preds[pair] = np.mean(predictions)"
   ]
  },
  {
   "cell_type": "code",
   "execution_count": 18,
   "metadata": {},
   "outputs": [
    {
     "name": "stdout",
     "output_type": "stream",
     "text": [
      "899\n"
     ]
    }
   ],
   "source": [
    "print(sum([1 for x in preds.values() if x > 0.5]))"
   ]
  },
  {
   "cell_type": "code",
   "execution_count": 19,
   "metadata": {},
   "outputs": [],
   "source": [
    "import pandas as pd\n",
    "\n",
    "row_list = []\n",
    "for i in range(1, 2001):\n",
    "    pair = test_pairs[i-1]\n",
    "    row = {}\n",
    "    row['Id'] = i\n",
    "    row['Predictions'] = preds[pair]\n",
    "    row_list.append(row)\n",
    "\n",
    "predictions = pd.DataFrame(row_list)\n",
    "predictions.to_csv('naive5_predictions.csv', index=False)"
   ]
  }
 ],
 "metadata": {
  "kernelspec": {
   "display_name": "Python 3",
   "language": "python",
   "name": "python3"
  },
  "language_info": {
   "codemirror_mode": {
    "name": "ipython",
    "version": 3
   },
   "file_extension": ".py",
   "mimetype": "text/x-python",
   "name": "python",
   "nbconvert_exporter": "python",
   "pygments_lexer": "ipython3",
   "version": "3.7.0"
  }
 },
 "nbformat": 4,
 "nbformat_minor": 2
}
