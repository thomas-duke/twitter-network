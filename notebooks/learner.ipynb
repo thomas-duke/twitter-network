{
 "cells": [
  {
   "cell_type": "code",
   "execution_count": 4,
   "metadata": {},
   "outputs": [],
   "source": [
    "import networkx as nx\n",
    "import numpy as np\n",
    "import pandas as pd\n",
    "import sklearn\n",
    "import tensorflow as tf\n",
    "from itertools import product\n",
    "from sklearn.model_selection import train_test_split\n",
    "from copy import deepcopy"
   ]
  },
  {
   "cell_type": "code",
   "execution_count": null,
   "metadata": {},
   "outputs": [],
   "source": [
    "y_any = y_pred.apply(np.mean, axis = 1).apply(int)\n",
    "evaluation(y_test, y_any)"
   ]
  },
  {
   "cell_type": "code",
   "execution_count": null,
   "metadata": {},
   "outputs": [],
   "source": [
    "y_prob_train = pd.DataFrame(\n",
    "    {'lr': [x[1] for x in clf_lr.predict_proba(X_train)],\n",
    "     'rf': [x[1] for x in clf_rf.predict_proba(X_train)],\n",
    "     'svm': [x[1] for x in clf_svm.predict_proba(X_train)],\n",
    "     'ada': [x[1] for x in clf_ada.predict_proba(X_train)],\n",
    "     'nn': [x[0] for x in clf_nn.predict(X_train)]\n",
    "})\n",
    "y_prob_train.head(n = 10)"
   ]
  },
  {
   "cell_type": "code",
   "execution_count": null,
   "metadata": {},
   "outputs": [],
   "source": [
    "y_mean = y_prob_test.apply(np.mean, axis = 1); y_mean.head(n = 10)"
   ]
  },
  {
   "cell_type": "code",
   "execution_count": null,
   "metadata": {},
   "outputs": [],
   "source": [
    "from sklearn.metrics import roc_curve, auc\n",
    "import matplotlib.pyplot as plt \n",
    "fpr, tpr, thresholds = roc_curve(y_test, y_mean)\n",
    "youden = tpr - fpr\n",
    "youden_fpr = fpr[np.argmax(youden)]\n",
    "youden_tpr = tpr[np.argmax(youden)]\n",
    "cutoff = thresholds[np.argmax(youden)]  \n",
    "plt.figure()\n",
    "lw = 2\n",
    "plt.plot(fpr, tpr, color='darkorange', lw=lw, label='ROC curve')\n",
    "plt.plot([youden_fpr, youden_fpr], [youden_fpr, youden_tpr],  color='black', lw=lw / 2, linestyle='--',\n",
    "         label='Max Youden index (cutoff = {:.2f})'.format(cutoff))\n",
    "plt.plot([0, 1], [0, 1], color='navy', lw=lw, linestyle='--')\n",
    "plt.xlim([0.0, 1.0])\n",
    "plt.ylim([0.0, 1.05])\n",
    "plt.xlabel('False Positive Rate')\n",
    "plt.ylabel('True Positive Rate')\n",
    "plt.title('Receiver operating characteristic example')\n",
    "plt.legend(loc=\"lower right\")\n",
    "plt.show()"
   ]
  },
  {
   "cell_type": "code",
   "execution_count": null,
   "metadata": {},
   "outputs": [],
   "source": [
    "y_final =  1 * (y_mean > cutoff)\n",
    "evaluation(y_test, y_final)"
   ]
  },
  {
   "cell_type": "code",
   "execution_count": null,
   "metadata": {},
   "outputs": [],
   "source": [
    "meta_train = y_prob_train.values; len(meta_train)"
   ]
  },
  {
   "cell_type": "code",
   "execution_count": null,
   "metadata": {},
   "outputs": [],
   "source": [
    "# Neural network\n",
    "from tensorflow.keras.models import Sequential\n",
    "from tensorflow.keras.layers import Dense, Dropout\n",
    "from tensorflow.keras.optimizers import SGD\n",
    "\n",
    "N_features = meta_train.shape[1]\n",
    "BATCH_SIZE = 128\n",
    "\n",
    "meta = Sequential()\n",
    "meta.add(Dense(N_features, activation='relu', use_bias = True))\n",
    "model.add(Dropout(0.5))\n",
    "meta.add(Dense(1, activation='sigmoid', use_bias=True))\n",
    "sgd = SGD(lr=0.01, decay=1e-6, momentum=0.9, nesterov=True)\n",
    "meta.compile(optimizer=sgd,loss='binary_crossentropy',metrics=['accuracy'])\n",
    "\n",
    "# Fit the meta\n",
    "meta.fit(meta_train, y_train, epochs=20, batch_size=BATCH_SIZE)"
   ]
  },
  {
   "cell_type": "code",
   "execution_count": null,
   "metadata": {},
   "outputs": [],
   "source": [
    "meta_test = y_prob_test.values\n",
    "meta_pred = meta.predict_classes(meta_test)\n",
    "evaluation(y_test, meta_pred)"
   ]
  },
  {
   "cell_type": "code",
   "execution_count": null,
   "metadata": {},
   "outputs": [],
   "source": [
    "non_stand_sim_test = similarity(G_master, test_pairs); non_stand_sim_test.head()"
   ]
  },
  {
   "cell_type": "code",
   "execution_count": null,
   "metadata": {},
   "outputs": [],
   "source": [
    "sim_test = scaler.transform(non_stand_sim_test); sim_test"
   ]
  },
  {
   "cell_type": "code",
   "execution_count": null,
   "metadata": {},
   "outputs": [],
   "source": [
    "final_test = pd.DataFrame(\n",
    "    {'lr': [x[1] for x in clf_lr.predict_proba(sim_test)],\n",
    "     'rf': [x[1] for x in clf_rf.predict_proba(sim_test)],\n",
    "     'svm': [x[1] for x in clf_svm.predict_proba(sim_test)],\n",
    "     'ada': [x[1] for x in clf_ada.predict_proba(sim_test)],\n",
    "     'nn': [x[0] for x in clf_nn.predict(sim_test)]\n",
    "})\n",
    "final_test.head(n = 10)"
   ]
  },
  {
   "cell_type": "code",
   "execution_count": null,
   "metadata": {},
   "outputs": [],
   "source": [
    "final_mean = final_test.apply(np.mean, axis = 1)\n",
    "final_pred = 1 * (final_mean > cutoff); final_pred"
   ]
  },
  {
   "cell_type": "code",
   "execution_count": null,
   "metadata": {},
   "outputs": [],
   "source": [
    "row_list = []\n",
    "for i in range(2000):\n",
    "    pair = test_pairs[i]\n",
    "    row = {}\n",
    "    row['Id'] = i + 1\n",
    "    row['Predictions'] = final_pred[i]\n",
    "    row_list.append(row)\n",
    "\n",
    "predictions = pd.DataFrame(row_list)\n",
    "predictions.to_csv('predictions.csv', index=False)"
   ]
  }
 ],
 "metadata": {
  "kernelspec": {
   "display_name": "Python 3",
   "language": "python",
   "name": "python3"
  },
  "language_info": {
   "codemirror_mode": {
    "name": "ipython",
    "version": 3
   },
   "file_extension": ".py",
   "mimetype": "text/x-python",
   "name": "python",
   "nbconvert_exporter": "python",
   "pygments_lexer": "ipython3",
   "version": "3.7.0"
  }
 },
 "nbformat": 4,
 "nbformat_minor": 2
}
