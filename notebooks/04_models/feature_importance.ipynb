{
 "cells": [
  {
   "cell_type": "code",
   "execution_count": 2,
   "metadata": {},
   "outputs": [
    {
     "name": "stdout",
     "output_type": "stream",
     "text": [
      "2019-07-02 15:29:16,783 - INFO - ** Kedro project Twitter Network\n",
      "2019-07-02 15:29:16,787 - INFO - Loading: /Users/tomduke/Documents/Academic/MBusA/Modules/M3 - Advanced Analytics/Machine Learning/twitter-network/conf/base/logging.yml\n",
      "2019-07-02 15:29:16,805 - INFO - Loading: /Users/tomduke/Documents/Academic/MBusA/Modules/M3 - Advanced Analytics/Machine Learning/twitter-network/conf/base/catalog.yml\n",
      "2019-07-02 15:29:16,837 - INFO - Loading: /Users/tomduke/Documents/Academic/MBusA/Modules/M3 - Advanced Analytics/Machine Learning/twitter-network/conf/base/credentials.yml\n",
      "2019-07-02 15:29:16,840 - INFO - Loading: /Users/tomduke/Documents/Academic/MBusA/Modules/M3 - Advanced Analytics/Machine Learning/twitter-network/conf/base/parameters.yml\n",
      "2019-07-02 15:29:16,859 - INFO - Defined global variables proj_dir, proj_name, conf and io\n",
      "2019-07-02 15:29:16,860 - INFO - Loading data from `clf_RF` (PickleLocalDataSet)...\n"
     ]
    }
   ],
   "source": [
    "%reload_kedro\n",
    "champion = io.load('clf_RF')"
   ]
  },
  {
   "cell_type": "code",
   "execution_count": 3,
   "metadata": {},
   "outputs": [
    {
     "data": {
      "text/plain": [
       "array([0.01172895, 0.04247993, 0.00231167, 0.0224113 , 0.06035302,\n",
       "       0.00254377, 0.03368162, 0.02816242, 0.00294218, 0.02319419,\n",
       "       0.01668593, 0.0182403 , 0.02472605, 0.01469502, 0.00775883,\n",
       "       0.00746905, 0.00300317, 0.00456751, 0.00495831, 0.02699208,\n",
       "       0.02471296, 0.02435638, 0.02507129, 0.02332193, 0.00489046,\n",
       "       0.03820762, 0.08089101, 0.03485705, 0.07442829, 0.00730373,\n",
       "       0.02661302, 0.02457321, 0.00959021, 0.02202998, 0.03029178,\n",
       "       0.01858925, 0.00475163, 0.00491241, 0.02360321, 0.01763184,\n",
       "       0.02622572, 0.00608054, 0.02393973, 0.02392307, 0.01361977,\n",
       "       0.02667864])"
      ]
     },
     "execution_count": 3,
     "metadata": {},
     "output_type": "execute_result"
    }
   ],
   "source": [
    "champion.feature_importances_"
   ]
  },
  {
   "cell_type": "code",
   "execution_count": 8,
   "metadata": {},
   "outputs": [
    {
     "name": "stdout",
     "output_type": "stream",
     "text": [
      "2019-07-02 15:32:05,562 - INFO - Loading data from `sample_train` (PickleLocalDataSet)...\n",
      "2019-07-02 15:32:06,046 - INFO - Loading data from `sample_valid` (PickleLocalDataSet)...\n",
      "Sample size: 866888\n",
      "Training size: 693510\n",
      "Validation size: 173378\n"
     ]
    }
   ],
   "source": [
    "train = io.load('sample_train')\n",
    "valid = io.load('sample_valid')\n",
    "print('Sample size:', len(train) + len(valid))\n",
    "print('Training size:', len(train))\n",
    "print('Validation size:', len(valid))"
   ]
  }
 ],
 "metadata": {
  "kernelspec": {
   "display_name": "Python 3",
   "language": "python",
   "name": "python3"
  },
  "language_info": {
   "codemirror_mode": {
    "name": "ipython",
    "version": 3
   },
   "file_extension": ".py",
   "mimetype": "text/x-python",
   "name": "python",
   "nbconvert_exporter": "python",
   "pygments_lexer": "ipython3",
   "version": "3.7.0"
  }
 },
 "nbformat": 4,
 "nbformat_minor": 2
}
