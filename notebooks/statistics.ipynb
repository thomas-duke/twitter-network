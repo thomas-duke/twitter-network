{
 "cells": [
  {
   "cell_type": "code",
   "execution_count": 6,
   "metadata": {},
   "outputs": [],
   "source": [
    "def cosine_for_followers(G,a,b):\n",
    "    try:    \n",
    "        if len(set(G.predecessors(a))) == 0  | len(set(G.predecessors(b))) == 0:\n",
    "            return 0\n",
    "        sim = (len(set(G.predecessors(a)).intersection(set(G.predecessors(b)))))/\\\n",
    "                                     (math.sqrt(len(set(G.predecessors(a))))*(len(set(G.predecessors(b)))))\n",
    "        return sim\n",
    "    except:\n",
    "        return 0"
   ]
  },
  {
   "cell_type": "code",
   "execution_count": 9,
   "metadata": {},
   "outputs": [],
   "source": [
    "def cosine_for_followees(G,a,b):\n",
    "    try:\n",
    "        if len(set(G.successors(a))) == 0  | len(set(G.successors(b))) == 0:\n",
    "            return 0\n",
    "        sim = (len(set(G.successors(a)).intersection(set(G.successors(b)))))/\\\n",
    "                                    (math.sqrt(len(set(G.successors(a)))*len((set(G.successors(b))))))\n",
    "        return sim\n",
    "    except:\n",
    "        return 0"
   ]
  },
  {
   "cell_type": "code",
   "execution_count": 2,
   "metadata": {},
   "outputs": [
    {
     "name": "stdout",
     "output_type": "stream",
     "text": [
      "2019-06-24 12:29:31,482 - kedro.io.data_catalog - INFO - Loading data from `G_train` (PickleLocalDataSet)...\n"
     ]
    }
   ],
   "source": [
    "G = io.load('G_train')"
   ]
  },
  {
   "cell_type": "code",
   "execution_count": 10,
   "metadata": {},
   "outputs": [
    {
     "data": {
      "text/plain": [
       "0"
      ]
     },
     "execution_count": 10,
     "metadata": {},
     "output_type": "execute_result"
    }
   ],
   "source": [
    "cosine_for_followees(G, '2184483', '1300190')"
   ]
  },
  {
   "cell_type": "code",
   "execution_count": null,
   "metadata": {},
   "outputs": [],
   "source": []
  }
 ],
 "metadata": {
  "kernelspec": {
   "display_name": "Python 3",
   "language": "python",
   "name": "python3"
  },
  "language_info": {
   "codemirror_mode": {
    "name": "ipython",
    "version": 3
   },
   "file_extension": ".py",
   "mimetype": "text/x-python",
   "name": "python",
   "nbconvert_exporter": "python",
   "pygments_lexer": "ipython3",
   "version": "3.7.0"
  }
 },
 "nbformat": 4,
 "nbformat_minor": 2
}
